{
 "cells": [
  {
   "cell_type": "code",
   "execution_count": 1,
   "metadata": {},
   "outputs": [],
   "source": [
    "using DelimitedFiles\n",
    "using CairoMakie\n",
    "using GLMakie\n",
    "using LinearAlgebra"
   ]
  },
  {
   "cell_type": "code",
   "execution_count": 33,
   "metadata": {},
   "outputs": [
    {
     "data": {
      "text/plain": [
       "ir_spectra (generic function with 1 method)"
      ]
     },
     "metadata": {},
     "output_type": "display_data"
    }
   ],
   "source": [
    "copy_size = 15\n",
    "\n",
    "nx::Int64 = copy_size\n",
    "ny::Int64 = copy_size\n",
    "nz::Int64 = copy_size \n",
    "\n",
    "include(\"./introduction.jl\")\n",
    "include(\"./ir_spectra.jl\")\n"
   ]
  },
  {
   "cell_type": "code",
   "execution_count": 34,
   "metadata": {},
   "outputs": [
    {
     "name": "stdout",
     "output_type": "stream",
     "text": [
      "893.716716 seconds (3.80 G allocations: 172.286 GiB, 4.53% gc time, 0.08% compilation time)\n"
     ]
    },
    {
     "data": {
      "text/plain": [
       "([0.0, 0.0, 0.0, 0.0, 0.0, 0.0, 0.0, 0.0, 0.0, 0.0  …  0.021976870598643464, 0.012413161080935342, 0.006686169971000133, 0.0034476616677463104, 0.0017112540786116328, 0.0008237853391841601, 0.0003883485903579152, 0.0001813698247026803, 8.506474157729294e-5, 4.0903697744830316e-5], [0.0, 0.0, 0.0, 0.0, 0.0, 0.0, 0.0, 0.0, 0.0, 0.0  …  0.032743920710805716, 0.018372030512376195, 0.009814237023149383, 0.0050099025736450005, 0.002457351454389428, 0.0011672403857282564, 0.0005424264502659859, 0.0002495555207772005, 0.00011502380275298354, 5.366093957795084e-5], [0.0, 0.0, 0.0, 0.0, 0.0, 0.0, 0.0, 0.0, 0.0, 0.0  …  0.0005137565293857314, 0.00037058340635080913, 0.0002530869872914294, 0.00016374364653998498, 0.00010049401245168811, 5.86740934361671e-5, 3.279432360369215e-5, 1.778889892763004e-5, 9.668041287134339e-6, 5.729963392735234e-6], [0.0, 0.0, 0.0, 0.0, 0.0, 0.0, 0.0, 0.0, 0.0, 0.0  …  0.06548655354332936, 0.0367433498856999, 0.019628102202805666, 0.01001962092595918, 0.004914616323158426, 0.0023344420357303765, 0.0010848362457607846, 0.0004991039534942212, 0.0002300443671278742, 0.00010732003092592996])"
      ]
     },
     "metadata": {},
     "output_type": "display_data"
    }
   ],
   "source": [
    "ν0 = 2050.0\n",
    "νk::Vector{Float64} = collect(ν0- range :step:ν0 + range)\n",
    "nmols_ml = 4*nx*ny*nz\n",
    "\n",
    "@time ipda, isda, ip, is = ir_spectra(νk, eu, com_ol, Δν) "
   ]
  },
  {
   "cell_type": "code",
   "execution_count": 35,
   "metadata": {},
   "outputs": [
    {
     "data": {
      "text/plain": [
       "GLMakie.Screen(...)"
      ]
     },
     "metadata": {},
     "output_type": "display_data"
    }
   ],
   "source": [
    "# CairoMakie.activate!()\n",
    "GLMakie.activate!()\n",
    "\n",
    "fig = Figure()\n",
    "ax = Axis(fig[1, 1], xgridvisible = false, ygridvisible = false)\n",
    "α = 0*degrees\n",
    "ipda_α = (cos(α))^2 .* ipda + (sin(α))^2 .* isda \n",
    "isda_α = (cos(α))^2 .* isda + (sin(α))^2 .* ipda \n",
    "\n",
    "lines!(ax, νk, ipda)\n",
    "lines!(ax, νk, isda)\n",
    "DataInspector(fig)\n",
    "display(fig)"
   ]
  },
  {
   "cell_type": "code",
   "execution_count": 6,
   "metadata": {},
   "outputs": [
    {
     "data": {
      "text/plain": [
       "GLMakie.Screen(...)"
      ]
     },
     "metadata": {},
     "output_type": "display_data"
    }
   ],
   "source": [
    "GLMakie.activate!()\n",
    "\n",
    "fig = Figure()\n",
    "ax = LScene(fig[1,1], show_axis = false)\n",
    "\n",
    "meshscatter!(ax, com0_ol[:,1], com0_ol[:,2], com0_ol[:,3])\n",
    "\n",
    "display(fig)\n"
   ]
  },
  {
   "cell_type": "code",
   "execution_count": 23,
   "metadata": {},
   "outputs": [
    {
     "ename": "DimensionMismatch",
     "evalue": "DimensionMismatch: array could not be broadcast to match destination",
     "output_type": "error",
     "traceback": [
      "DimensionMismatch: array could not be broadcast to match destination\n",
      "\n",
      "Stacktrace:\n",
      " [1] check_broadcast_shape\n",
      "   @ .\\broadcast.jl:579 [inlined]\n",
      " [2] check_broadcast_axes\n",
      "   @ .\\broadcast.jl:582 [inlined]\n",
      " [3] check_broadcast_axes\n",
      "   @ .\\broadcast.jl:585 [inlined]\n",
      " [4] instantiate\n",
      "   @ .\\broadcast.jl:309 [inlined]\n",
      " [5] materialize!\n",
      "   @ .\\broadcast.jl:914 [inlined]\n",
      " [6] materialize!\n",
      "   @ .\\broadcast.jl:911 [inlined]\n",
      " [7] overlayer()\n",
      "   @ Main c:\\Users\\Danny\\Documents\\GitHub\\alpha_CO_IR\\lattice_construction.jl:74\n",
      " [8] top-level scope\n",
      "   @ c:\\Users\\Danny\\Documents\\GitHub\\alpha_CO_IR\\alpha_CO_V1.ipynb:1"
     ]
    }
   ],
   "source": [
    "# com0_ol, = overlayer()\n"
   ]
  },
  {
   "cell_type": "code",
   "execution_count": 42,
   "metadata": {},
   "outputs": [
    {
     "data": {
      "text/plain": [
       "2048-element Vector{Vector{Float64}}:\n",
       " [1.0, 1.0, 1.0]\n",
       " [1.0, -1.0, -1.0]\n",
       " [-1.0, 1.0, -1.0]\n",
       " [-1.0, -1.0, 1.0]\n",
       " [1.0, 1.0, 1.0]\n",
       " [1.0, -1.0, -1.0]\n",
       " [-1.0, 1.0, -1.0]\n",
       " [-1.0, -1.0, 1.0]\n",
       " [1.0, 1.0, 1.0]\n",
       " [1.0, -1.0, -1.0]\n",
       " ⋮\n",
       " [-1.0, -1.0, 1.0]\n",
       " [1.0, 1.0, 1.0]\n",
       " [1.0, -1.0, -1.0]\n",
       " [-1.0, 1.0, -1.0]\n",
       " [-1.0, -1.0, 1.0]\n",
       " [1.0, 1.0, 1.0]\n",
       " [1.0, -1.0, -1.0]\n",
       " [-1.0, 1.0, -1.0]\n",
       " [-1.0, -1.0, 1.0]"
      ]
     },
     "metadata": {},
     "output_type": "display_data"
    }
   ],
   "source": [
    "uvec_uc::Vector{Vector{Float64}} = [[ 1.0,  1.0,  1.0],\n",
    "[ 1.0, -1.0, -1.0],\n",
    "[-1.0,  1.0, -1.0],\n",
    "[-1.0, -1.0,  1.0]]\n",
    "\n",
    "uvec::Vector{Vector{Float64}}  = repeat(uvec_uc_1, outer=nx*ny*nz)"
   ]
  },
  {
   "cell_type": "code",
   "execution_count": null,
   "metadata": {},
   "outputs": [],
   "source": []
  }
 ],
 "metadata": {
  "kernelspec": {
   "display_name": "Julia 1.10.1",
   "language": "julia",
   "name": "julia-1.10"
  },
  "language_info": {
   "file_extension": ".jl",
   "mimetype": "application/julia",
   "name": "julia",
   "version": "1.10.1"
  }
 },
 "nbformat": 4,
 "nbformat_minor": 2
}
